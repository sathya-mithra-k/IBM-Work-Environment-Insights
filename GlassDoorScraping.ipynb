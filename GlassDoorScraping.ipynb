{
 "cells": [
  {
   "cell_type": "code",
   "execution_count": 15,
   "metadata": {},
   "outputs": [],
   "source": [
    "from selenium import webdriver\n",
    "from selenium.webdriver.chrome.service import Service\n",
    "from selenium.webdriver.chrome.options import Options\n",
    "import time\n",
    "from bs4 import BeautifulSoup\n",
    "import pandas as pd"
   ]
  },
  {
   "cell_type": "code",
   "execution_count": 25,
   "metadata": {},
   "outputs": [],
   "source": [
    "chrome_options = Options()\n",
    "chrome_options.add_argument(\"--disable-blink-features=AutomationControlled\")  # Bypass bot detection\n",
    "chrome_options.add_argument(\"--disable-infobars\")\n",
    "chrome_options.add_argument(\"--disable-popup-blocking\")\n",
    "chrome_options.add_argument(\"--disable-extensions\")\n",
    "chrome_options.add_argument(\"--incognito\")  # Run in incognito mode\n",
    "chrome_options.add_argument(\"start-maximized\")\n",
    "chrome_options.add_argument(\"user-agent=Mozilla/5.0 (Windows NT 10.0; Win64; x64) AppleWebKit/537.36 (KHTML, like Gecko) Chrome/120.0.0.0 Safari/537.36\")"
   ]
  },
  {
   "cell_type": "code",
   "execution_count": 26,
   "metadata": {},
   "outputs": [],
   "source": [
    "chrome_options.add_experimental_option(\"excludeSwitches\", [\"enable-automation\"])\n",
    "chrome_options.add_experimental_option(\"useAutomationExtension\", False)"
   ]
  },
  {
   "cell_type": "code",
   "execution_count": 28,
   "metadata": {},
   "outputs": [
    {
     "ename": "NameError",
     "evalue": "name 'stealth' is not defined",
     "output_type": "error",
     "traceback": [
      "\u001b[1;31m---------------------------------------------------------------------------\u001b[0m",
      "\u001b[1;31mNameError\u001b[0m                                 Traceback (most recent call last)",
      "Cell \u001b[1;32mIn[28], line 2\u001b[0m\n\u001b[0;32m      1\u001b[0m service \u001b[38;5;241m=\u001b[39m Service(\u001b[38;5;124m\"\u001b[39m\u001b[38;5;124mchromedriver.exe\u001b[39m\u001b[38;5;124m\"\u001b[39m)  \u001b[38;5;66;03m# Update with correct path\u001b[39;00m\n\u001b[1;32m----> 2\u001b[0m \u001b[43mstealth\u001b[49m(driver,\n\u001b[0;32m      3\u001b[0m         languages\u001b[38;5;241m=\u001b[39m[\u001b[38;5;124m\"\u001b[39m\u001b[38;5;124men-US\u001b[39m\u001b[38;5;124m\"\u001b[39m, \u001b[38;5;124m\"\u001b[39m\u001b[38;5;124men\u001b[39m\u001b[38;5;124m\"\u001b[39m],\n\u001b[0;32m      4\u001b[0m         vendor\u001b[38;5;241m=\u001b[39m\u001b[38;5;124m\"\u001b[39m\u001b[38;5;124mGoogle Inc.\u001b[39m\u001b[38;5;124m\"\u001b[39m,\n\u001b[0;32m      5\u001b[0m         platform\u001b[38;5;241m=\u001b[39m\u001b[38;5;124m\"\u001b[39m\u001b[38;5;124mWin32\u001b[39m\u001b[38;5;124m\"\u001b[39m,\n\u001b[0;32m      6\u001b[0m         webgl_vendor\u001b[38;5;241m=\u001b[39m\u001b[38;5;124m\"\u001b[39m\u001b[38;5;124mIntel Inc.\u001b[39m\u001b[38;5;124m\"\u001b[39m,\n\u001b[0;32m      7\u001b[0m         renderer\u001b[38;5;241m=\u001b[39m\u001b[38;5;124m\"\u001b[39m\u001b[38;5;124mIntel Iris OpenGL Engine\u001b[39m\u001b[38;5;124m\"\u001b[39m,\n\u001b[0;32m      8\u001b[0m         fix_hairline\u001b[38;5;241m=\u001b[39m\u001b[38;5;28;01mTrue\u001b[39;00m)\n",
      "\u001b[1;31mNameError\u001b[0m: name 'stealth' is not defined"
     ]
    }
   ],
   "source": [
    "service = Service(\"chromedriver.exe\")  # Update with correct path\n",
    "stealth(driver,\n",
    "        languages=[\"en-US\", \"en\"],\n",
    "        vendor=\"Google Inc.\",\n",
    "        platform=\"Win32\",\n",
    "        webgl_vendor=\"Intel Inc.\",\n",
    "        renderer=\"Intel Iris OpenGL Engine\",\n",
    "        fix_hairline=True)"
   ]
  },
  {
   "cell_type": "code",
   "execution_count": 24,
   "metadata": {},
   "outputs": [],
   "source": [
    "driver = webdriver.Chrome(options=chrome_options)\n",
    "driver.get( \"https://www.glassdoor.co.in/Reviews/IBM-Reviews-E354.htm\")"
   ]
  },
  {
   "cell_type": "code",
   "execution_count": 18,
   "metadata": {},
   "outputs": [],
   "source": [
    "for _ in range(5):\n",
    "    driver.execute_script(\"window.scrollTo(0, document.body.scrollHeight);\")\n",
    "    time.sleep(2)"
   ]
  },
  {
   "cell_type": "code",
   "execution_count": 19,
   "metadata": {},
   "outputs": [],
   "source": [
    "soup = BeautifulSoup(driver.page_source, \"html.parser\")\n",
    "driver.quit()"
   ]
  },
  {
   "cell_type": "code",
   "execution_count": 20,
   "metadata": {},
   "outputs": [],
   "source": [
    "reviews = []\n",
    "for review in soup.find_all(\"p\", class_=\"typography__body\"):\n",
    "    reviews.append(review.text)"
   ]
  },
  {
   "cell_type": "code",
   "execution_count": 21,
   "metadata": {},
   "outputs": [
    {
     "data": {
      "text/plain": [
       "[]"
      ]
     },
     "execution_count": 21,
     "metadata": {},
     "output_type": "execute_result"
    }
   ],
   "source": [
    "reviews"
   ]
  },
  {
   "cell_type": "code",
   "execution_count": 29,
   "metadata": {},
   "outputs": [],
   "source": [
    "df = pd.read_csv('data.csv')"
   ]
  },
  {
   "cell_type": "code",
   "execution_count": 30,
   "metadata": {},
   "outputs": [
    {
     "data": {
      "text/html": [
       "<div>\n",
       "<style scoped>\n",
       "    .dataframe tbody tr th:only-of-type {\n",
       "        vertical-align: middle;\n",
       "    }\n",
       "\n",
       "    .dataframe tbody tr th {\n",
       "        vertical-align: top;\n",
       "    }\n",
       "\n",
       "    .dataframe thead th {\n",
       "        text-align: right;\n",
       "    }\n",
       "</style>\n",
       "<table border=\"1\" class=\"dataframe\">\n",
       "  <thead>\n",
       "    <tr style=\"text-align: right;\">\n",
       "      <th></th>\n",
       "      <th>Rating</th>\n",
       "      <th>Date</th>\n",
       "      <th>Review Title</th>\n",
       "      <th>Job Title</th>\n",
       "      <th>Employment Status</th>\n",
       "      <th>Location</th>\n",
       "      <th>Recommend</th>\n",
       "      <th>CEO Approval</th>\n",
       "      <th>Business Outlook</th>\n",
       "      <th>Pros</th>\n",
       "      <th>Cons</th>\n",
       "    </tr>\n",
       "  </thead>\n",
       "  <tbody>\n",
       "    <tr>\n",
       "      <th>5.0</th>\n",
       "      <td>31 Jan 2025</td>\n",
       "      <td>Great place to work and learn</td>\n",
       "      <td>Technical Architect</td>\n",
       "      <td>Current employee</td>\n",
       "      <td>more than 8 years</td>\n",
       "      <td>Chennai</td>\n",
       "      <td>Yes</td>\n",
       "      <td>Yes</td>\n",
       "      <td>Yes</td>\n",
       "      <td>Great place to work and learn</td>\n",
       "      <td>Benefits are less while comparing to others</td>\n",
       "    </tr>\n",
       "    <tr>\n",
       "      <th>1.0</th>\n",
       "      <td>28 Nov 2024</td>\n",
       "      <td>na</td>\n",
       "      <td>Technical Support Engineer</td>\n",
       "      <td>Current employee</td>\n",
       "      <td>Pune</td>\n",
       "      <td>Yes</td>\n",
       "      <td>Yes</td>\n",
       "      <td>Yes</td>\n",
       "      <td>Global Presence and Brand Reputation, Career G...</td>\n",
       "      <td>Bureaucratic Challenges, Frequent Restructurin...</td>\n",
       "      <td>NaN</td>\n",
       "    </tr>\n",
       "    <tr>\n",
       "      <th>4.0</th>\n",
       "      <td>26 Jan 2025</td>\n",
       "      <td>Decent work culture and nice salary</td>\n",
       "      <td>Software Engineer</td>\n",
       "      <td>Current employee</td>\n",
       "      <td>more than 1 year</td>\n",
       "      <td>Bengaluru</td>\n",
       "      <td>Yes</td>\n",
       "      <td>Yes</td>\n",
       "      <td>Yes</td>\n",
       "      <td>Team is good, Recognition for work, Engagement...</td>\n",
       "      <td>Projects are assigned rarely, Slow career grow...</td>\n",
       "    </tr>\n",
       "    <tr>\n",
       "      <th>5.0</th>\n",
       "      <td>17 Jan 2025</td>\n",
       "      <td>Software Developer experience in IBM India Sof...</td>\n",
       "      <td>Software Developer</td>\n",
       "      <td>Current employee</td>\n",
       "      <td>more than 1 year</td>\n",
       "      <td>Cochin</td>\n",
       "      <td>Yes</td>\n",
       "      <td>Yes</td>\n",
       "      <td>Yes</td>\n",
       "      <td>Good work culture, Work-life balance depends o...</td>\n",
       "      <td>Compensation varies based on college tier</td>\n",
       "    </tr>\n",
       "    <tr>\n",
       "      <th>3.0</th>\n",
       "      <td>13 Jan 2025</td>\n",
       "      <td>For IBM TLS Department</td>\n",
       "      <td>IT Technical Specialist</td>\n",
       "      <td>Current employee</td>\n",
       "      <td>more than 3 years</td>\n",
       "      <td>Bangalore Rural</td>\n",
       "      <td>Yes</td>\n",
       "      <td>Yes</td>\n",
       "      <td>Yes</td>\n",
       "      <td>Work culture, Flexible timing, Work-life balan...</td>\n",
       "      <td>Very low salary, Rare promotions, No salary in...</td>\n",
       "    </tr>\n",
       "  </tbody>\n",
       "</table>\n",
       "</div>"
      ],
      "text/plain": [
       "          Rating                                               Date  \\\n",
       "5.0  31 Jan 2025                      Great place to work and learn   \n",
       "1.0  28 Nov 2024                                                 na   \n",
       "4.0  26 Jan 2025                Decent work culture and nice salary   \n",
       "5.0  17 Jan 2025  Software Developer experience in IBM India Sof...   \n",
       "3.0  13 Jan 2025                             For IBM TLS Department   \n",
       "\n",
       "                   Review Title         Job Title   Employment Status  \\\n",
       "5.0         Technical Architect  Current employee   more than 8 years   \n",
       "1.0  Technical Support Engineer  Current employee                Pune   \n",
       "4.0           Software Engineer  Current employee    more than 1 year   \n",
       "5.0          Software Developer  Current employee    more than 1 year   \n",
       "3.0     IT Technical Specialist  Current employee   more than 3 years   \n",
       "\n",
       "            Location Recommend CEO Approval  \\\n",
       "5.0          Chennai       Yes          Yes   \n",
       "1.0              Yes       Yes          Yes   \n",
       "4.0        Bengaluru       Yes          Yes   \n",
       "5.0           Cochin       Yes          Yes   \n",
       "3.0  Bangalore Rural       Yes          Yes   \n",
       "\n",
       "                                      Business Outlook  \\\n",
       "5.0                                                Yes   \n",
       "1.0  Global Presence and Brand Reputation, Career G...   \n",
       "4.0                                                Yes   \n",
       "5.0                                                Yes   \n",
       "3.0                                                Yes   \n",
       "\n",
       "                                                  Pros  \\\n",
       "5.0                      Great place to work and learn   \n",
       "1.0  Bureaucratic Challenges, Frequent Restructurin...   \n",
       "4.0  Team is good, Recognition for work, Engagement...   \n",
       "5.0  Good work culture, Work-life balance depends o...   \n",
       "3.0  Work culture, Flexible timing, Work-life balan...   \n",
       "\n",
       "                                                  Cons  \n",
       "5.0        Benefits are less while comparing to others  \n",
       "1.0                                                NaN  \n",
       "4.0  Projects are assigned rarely, Slow career grow...  \n",
       "5.0          Compensation varies based on college tier  \n",
       "3.0  Very low salary, Rare promotions, No salary in...  "
      ]
     },
     "execution_count": 30,
     "metadata": {},
     "output_type": "execute_result"
    }
   ],
   "source": [
    "df.head()"
   ]
  },
  {
   "cell_type": "code",
   "execution_count": null,
   "metadata": {},
   "outputs": [],
   "source": []
  }
 ],
 "metadata": {
  "kernelspec": {
   "display_name": "Python 3",
   "language": "python",
   "name": "python3"
  },
  "language_info": {
   "codemirror_mode": {
    "name": "ipython",
    "version": 3
   },
   "file_extension": ".py",
   "mimetype": "text/x-python",
   "name": "python",
   "nbconvert_exporter": "python",
   "pygments_lexer": "ipython3",
   "version": "3.11.0"
  }
 },
 "nbformat": 4,
 "nbformat_minor": 2
}
